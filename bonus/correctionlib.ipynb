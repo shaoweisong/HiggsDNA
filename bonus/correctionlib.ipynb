{
 "cells": [
  {
   "cell_type": "code",
   "execution_count": 1,
   "metadata": {},
   "outputs": [
    {
     "data": {
      "text/plain": [
       "['UL-Photon-CSEV-SF', 'UL-Photon-ID-SF', 'UL-Photon-PixVeto-SF']"
      ]
     },
     "execution_count": 1,
     "metadata": {},
     "output_type": "execute_result"
    }
   ],
   "source": [
    "import correctionlib\n",
    "ceval = correctionlib.CorrectionSet.from_file(\"/afs/cern.ch/user/s/shsong/HiggsDNA/jsonpog-integration/POG/EGM/2017_UL/photon.json\")\n",
    "list(ceval.keys())"
   ]
  },
  {
   "cell_type": "code",
   "execution_count": 250,
   "metadata": {},
   "outputs": [
    {
     "name": "stdout",
     "output_type": "stream",
     "text": [
      "[[1.01, 1.04, 0.984], [0.99, 0.981], [0.998]]\n"
     ]
    }
   ],
   "source": [
    "phopt = ak.Array([[10.1, 200.2, 30.3], [40.4, 50.5], [60.6]])\n",
    "phoeta = ak.Array([[-2.3, -1.2, 0.3], [1.2, 1.9], [2.4]])\n",
    "nphoton = ak.num(phopt)\n",
    "photons_flattenpt =ak.flatten(phopt)\n",
    "photons_flatteneta =ak.flatten(phoeta)\n",
    "pho_pt = np.clip(\n",
    "    ak.to_numpy(photons_flattenpt),\n",
    "    20.0, # SFs only valid for pT >= 20.0\n",
    "    500.0\n",
    ")\n",
    "pho_eta = np.clip(\n",
    "    ak.to_numpy(photons_flatteneta),\n",
    "    -2.5, # SFs only valid for |eta| < 2.5\n",
    "    2.5\n",
    ")\n",
    "sf=ceval['UL-Photon-ID-SF'].evaluate(\"2017\",\"sf\",\"Loose\",pho_eta, pho_pt)\n",
    "photonidsf=ak.unflatten(sf, nphoton)\n",
    "print(photonidsf)"
   ]
  },
  {
   "cell_type": "code",
   "execution_count": 213,
   "metadata": {},
   "outputs": [
    {
     "data": {
      "text/plain": [
       "array([[1.0094675 , 1.0056053 , 1.01      , 0.995671  , 0.9936306 ],\n",
       "       [0.9712859 , 0.97911835, 0.9758343 , 0.9585666 , 1.0105017 ],\n",
       "       [1.014966  , 0.99075145, 0.9648924 , 1.0187794 , 1.100271  ],\n",
       "       [0.9768575 , 0.9754738 , 0.97669256, 1.0189945 , 1.0155039 ],\n",
       "       [0.9786223 , 0.9790979 , 0.9758507 , 0.99346405, 1.0145904 ],\n",
       "       [0.9774347 , 0.9801762 , 0.9768977 , 0.98914224, 0.95680344],\n",
       "       [0.9743276 , 0.98210293, 0.9788654 , 1.019037  , 0.96080625],\n",
       "       [0.9360544 , 0.9930556 , 1.0023475 , 1.0520581 , 0.9031505 ],\n",
       "       [0.9736842 , 0.98018646, 0.9803695 , 0.9874572 , 0.9840728 ],\n",
       "       [1.0059102 , 1.0022272 , 1.0022099 , 1.0076419 , 1.0096052 ]],\n",
       "      dtype=float32)"
      ]
     },
     "execution_count": 213,
     "metadata": {},
     "output_type": "execute_result"
    }
   ],
   "source": [
    "import uproot\n",
    "import correctionlib.schemav2 as cs\n",
    "sfs = uproot.open(\"/afs/cern.ch/user/s/shsong/HiggsDNA/higgs_dna/systematics/data/egammaEffi.txt_EGM2D_PHO_MVA90_UL17.root:EGamma_SF2D\")\n",
    "sfsup=sfs.values()+sfs.errors()\n",
    "sfsdown=sfs.values()-sfs.errors()\n",
    "sfs.values()\n"
   ]
  },
  {
   "cell_type": "code",
   "execution_count": 214,
   "metadata": {},
   "outputs": [
    {
     "data": {
      "text/plain": [
       "ColormeshArtists(pcolormesh=<matplotlib.collections.QuadMesh object at 0x7fe5f2fd62b0>, cbar=<matplotlib.colorbar.Colorbar object at 0x7fe5f2f518b0>, text=[])"
      ]
     },
     "execution_count": 214,
     "metadata": {},
     "output_type": "execute_result"
    },
    {
     "data": {
      "image/png": "[encoded data removed]",
      "text/plain": [
       "<Figure size 684.8x480 with 2 Axes>"
      ]
     },
     "metadata": {},
     "output_type": "display_data"
    }
   ],
   "source": [
    "import hist \n",
    "\n",
    "# define the bin edges for the 2D histogram\n",
    "xedge = [-2.5, -2.0, -1.566, -1.444, -0.8, 0.0, 0.8, 1.444, 1.566, 2.0, 2.5]\n",
    "yedge = [20.0, 35.0, 50.0, 100.0, 200.0, 500.0]\n",
    "sfhist = hist.Hist(\n",
    "    hist.axis.Variable(xedge, label='eta'),  # xaxis:eta\n",
    "    hist.axis.Variable(yedge, label='pt'),   # yaxis:pt\n",
    "    storage=hist.storage.Double(),\n",
    "    data=sfs.values()\n",
    ")\n",
    "sfhist.plot2d()\n"
   ]
  },
  {
   "cell_type": "code",
   "execution_count": 251,
   "metadata": {},
   "outputs": [],
   "source": [
    "sfsdownhist = hist.Hist(\n",
    "    hist.axis.Variable(xedge, label='eta'),  # xaxis:eta\n",
    "    hist.axis.Variable(yedge, label='pt'),   # yaxis:pt\n",
    "    storage=hist.storage.Double(),\n",
    "    data=sfs.values()-sfs.errors()\n",
    ")\n",
    "sfsuphist = hist.Hist(\n",
    "    hist.axis.Variable(xedge, label='eta'),  # xaxis:eta\n",
    "    hist.axis.Variable(yedge, label='pt'),   # yaxis:pt\n",
    "    storage=hist.storage.Double(),\n",
    "    data=sfs.values()+sfs.errors()\n",
    ")\n",
    "\n"
   ]
  },
  {
   "cell_type": "code",
   "execution_count": 219,
   "metadata": {},
   "outputs": [],
   "source": [
    "import correctionlib.convert\n",
    "# convert the sfs histogram to a correctionlib object\n",
    "# without a name, the resulting object will fail validation\n",
    "sfhist.name = \"modified_photonID_sfs_2017\"\n",
    "sfhist.label = \"out\"\n",
    "modified_photonID_2017_sfs = correctionlib.convert.from_histogram(sfhist)\n",
    "# modified_photonID_2017_sfs.inputs=[cs.Variable(name=\"eta\", type=\"real\", description=\"Photon eta\"), cs.Variable(name=\"pt\", type=\"real\", description=\"Photon pt\")]\n",
    "modified_photonID_2017_sfs.description = \"scale factors for photon ID 2017\"\n",
    "# set overflow bins behavior (default is to raise an error when out of bounds)\n",
    "modified_photonID_2017_sfs.data.flow = \"clamp\"\n"
   ]
  },
  {
   "cell_type": "code",
   "execution_count": 252,
   "metadata": {},
   "outputs": [],
   "source": [
    "import correctionlib.convert\n",
    "# convert the sfs histogram to a correctionlib object\n",
    "# without a name, the resulting object will fail validation\n",
    "sfhist.name = \"modified_photonID_sfs_2017\"\n",
    "sfhist.label = \"out\"\n",
    "modified_photonID_2017_sfs = correctionlib.convert.from_histogram(sfhist)\n",
    "modified_photonID_2017_sfs.description = \"scale factors for photon ID 2017\"\n",
    "# set overflow bins behavior (default is to raise an error when out of bounds)\n",
    "modified_photonID_2017_sfs.data.flow = \"clamp\"\n"
   ]
  },
  {
   "cell_type": "code",
   "execution_count": 253,
   "metadata": {},
   "outputs": [],
   "source": [
    "#same for sfsup and sfsdown\n",
    "# create a correction object from the sfsup\n",
    "sfsuphist.name = \"modified_photonIDsfsup_2017\"\n",
    "sfsuphist.label = \"out\"\n",
    "modified_photonID_2017sfsup = correctionlib.convert.from_histogram(sfsuphist)\n",
    "modified_photonID_2017sfsup.description = \"systematic uncertainty up for photon ID 2017\"\n",
    "modified_photonID_2017sfsup.data.flow = \"clamp\"\n",
    "# create a correction object from the sfsdown\n",
    "sfsdownhist.name = \"modified_photonIDsfsdown_2017\"\n",
    "sfsdownhist.label = \"out\"\n",
    "modified_photonID_2017sfsdown = correctionlib.convert.from_histogram(sfsdownhist)\n",
    "modified_photonID_2017sfsdown.description = \"systematic uncertainty down for photon ID 2017\"\n",
    "modified_photonID_2017sfsdown.data.flow = \"clamp\"\n"
   ]
  },
  {
   "cell_type": "code",
   "execution_count": 233,
   "metadata": {},
   "outputs": [],
   "source": []
  },
  {
   "cell_type": "code",
   "execution_count": 234,
   "metadata": {},
   "outputs": [],
   "source": [
    "cset = correctionlib.schemav2.CorrectionSet(\n",
    "    schema_version=2,\n",
    "    description=\"my custom photonID corrections\",\n",
    "    corrections=[\n",
    "        modified_photonID_2017_sfs,\n",
    "        modified_photonID_2017sfsup,\n",
    "        modified_photonID_2017sfsdown,\n",
    "    ],\n",
    ")\n",
    "\n",
    "with open(\"/afs/cern.ch/user/s/shsong/HiggsDNA/bonus/mycorrections.json\", \"w\") as fout:\n",
    "    fout.write(cset.json(exclude_unset=True))\n",
    "\n",
    "import gzip\n",
    "\n",
    "with gzip.open(\"/afs/cern.ch/user/s/shsong/HiggsDNA/bonus/mycorrections.json.gz\", \"wt\") as fout:\n",
    "    fout.write(cset.json(exclude_unset=True))"
   ]
  },
  {
   "cell_type": "code",
   "execution_count": 239,
   "metadata": {},
   "outputs": [
    {
     "data": {
      "text/plain": [
       "<correctionlib._core.CorrectionSet at 0x7fe5f26d1d30>"
      ]
     },
     "execution_count": 239,
     "metadata": {},
     "output_type": "execute_result"
    }
   ],
   "source": []
  },
  {
   "cell_type": "code",
   "execution_count": 244,
   "metadata": {},
   "outputs": [
    {
     "name": "stdout",
     "output_type": "stream",
     "text": [
      "Correction modified_photonID_sfs_2017 has 2 inputs\n",
      "Input:  real eta\n",
      "Input:  real pt\n",
      "Correction modified_photonIDsfsdown_2017 has 2 inputs\n",
      "Input:  real eta\n",
      "Input:  real pt\n",
      "Correction modified_photonIDsfsup_2017 has 2 inputs\n",
      "Input:  real eta\n",
      "Input:  real pt\n"
     ]
    }
   ],
   "source": [
    "evaluator = correctionlib.CorrectionSet.from_file(\"/afs/cern.ch/user/s/shsong/HiggsDNA/bonus/mycorrections.json\")\n",
    "for corr in evaluator.values():\n",
    "    print(f\"Correction {corr.name} has {len(corr.inputs)} inputs\")\n",
    "    for ix in corr.inputs:\n",
    "        print(\"Input:\",ix.name, ix.type, ix.description)\n"
   ]
  },
  {
   "cell_type": "code",
   "execution_count": 245,
   "metadata": {},
   "outputs": [
    {
     "data": {
      "text/plain": [
       "0.9360544085502625"
      ]
     },
     "execution_count": 245,
     "metadata": {},
     "output_type": "execute_result"
    }
   ],
   "source": [
    "evaluator = correctionlib.CorrectionSet.from_file(\"/afs/cern.ch/user/s/shsong/HiggsDNA/bonus/mycorrections.json\")\n",
    "evaluator['modified_photonID_sfs_2017'].evaluate(1.5, 30.0)"
   ]
  },
  {
   "cell_type": "code",
   "execution_count": 248,
   "metadata": {},
   "outputs": [
    {
     "name": "stdout",
     "output_type": "stream",
     "text": [
      "sf for photonID correction [[1.01, 0.977, 0.977], [0.974, 0.974], [1.01]]\n",
      "sfup for photonID correction [[1.03, 1.01, 1], [1.01, 1.01], [1.02]]\n",
      "sfdown for photonID correction [[0.991, 0.943, 0.953], [0.94, 0.94], [0.987]]\n"
     ]
    }
   ],
   "source": [
    "from correctionlib import _core\n",
    "evaluator =_core.CorrectionSet.from_file(\"/afs/cern.ch/user/s/shsong/HiggsDNA/bonus/mycorrections.json\")\n",
    "phopt = ak.Array([[10.1, 200.2, 30.3], [40.4, 50.5], [60.6]])\n",
    "phoeta = ak.Array([[-2.3, -1.2, 0.3], [1.2, 1.9], [2.4]])\n",
    "nphoton = ak.num(phopt)\n",
    "photons_flattenpt =ak.flatten(phopt)\n",
    "photons_flatteneta =ak.flatten(phoeta)\n",
    "pho_pt = np.clip(\n",
    "    ak.to_numpy(photons_flattenpt),\n",
    "    20.0, # SFs only valid for pT >= 20.0\n",
    "    500.0\n",
    ")\n",
    "pho_eta = np.clip(\n",
    "    ak.to_numpy(photons_flatteneta),\n",
    "    -2.5, # SFs only valid for |eta| < 2.5\n",
    "    2.5\n",
    ")\n",
    "sf=evaluator['modified_photonID_sfs_2017'].evalv(pho_eta, pho_pt)\n",
    "sfup=evaluator['modified_photonIDsfsup_2017'].evalv(pho_eta, pho_pt)\n",
    "sfdown=evaluator['modified_photonIDsfsdown_2017'].evalv(pho_eta, pho_pt)\n",
    "photonidsf=ak.unflatten(sf, nphoton)\n",
    "photonidsfup=ak.unflatten(sfup, nphoton)\n",
    "photonidsfdown=ak.unflatten(sfdown, nphoton)\n",
    "print(\"sf for photonID correction\",photonidsf)\n",
    "print(\"sfup for photonID correction\",photonidsfup)\n",
    "print(\"sfdown for photonID correction\",photonidsfdown)\n"
   ]
  },
  {
   "cell_type": "code",
   "execution_count": null,
   "metadata": {},
   "outputs": [],
   "source": []
  }
 ],
 "metadata": {
  "kernelspec": {
   "display_name": "higgsdna",
   "language": "python",
   "name": "python3"
  },
  "language_info": {
   "codemirror_mode": {
    "name": "ipython",
    "version": 3
   },
   "file_extension": ".py",
   "mimetype": "text/x-python",
   "name": "python",
   "nbconvert_exporter": "python",
   "pygments_lexer": "ipython3",
   "version": "3.9.19"
  }
 },
 "nbformat": 4,
 "nbformat_minor": 2
}
