{
 "cells": [
  {
   "cell_type": "code",
   "execution_count": 1,
   "metadata": {},
   "outputs": [],
   "source": [
    "import numpy"
   ]
  },
  {
   "cell_type": "code",
   "execution_count": 2,
   "metadata": {},
   "outputs": [
    {
     "name": "stdout",
     "output_type": "stream",
     "text": [
      "& ${-1.772}_{-4.059}^{+4.059}$ & ${-1.673}_{-9.207}^{+9.702}$ & ${-6.821}_{-9.603}^{+10.593}$ & ${1.495}_{-9.405}^{+10.098}$ \n"
     ]
    }
   ],
   "source": [
    "#16\n",
    "sf=[1.028,1.027,1.079,0.995]\n",
    "up=[+0.041,+0.098,+0.107,+0.102]\n",
    "down=[-0.041,-0.093,-0.097,-0.095]\n",
    "eff=0.81\n",
    "eff=0.99\n",
    "latex=\"\"\n",
    "for i in range(0,4):\n",
    "    sfnew=(1/eff-sf[i])/(1/eff-1)\n",
    "    sfup=(1/eff-sf[i]+up[i])/(1/eff-1)\n",
    "    sfdown=(1/eff-sf[i]+down[i])/(1/eff-1)\n",
    "    sfupvalue=sfup-sfnew\n",
    "    sfdownvalue=sfdown-sfnew\n",
    "    #保留3位小数\n",
    "    sfnew=round(sfnew,3)\n",
    "    sfupvalue=round(sfupvalue,3)\n",
    "    sfdownvalue=round(sfdownvalue,3)\n",
    "    latex=latex+\"& ${\"+str(sfnew)+\"}_{\"+str(sfdownvalue)+\"}^{+\"+str(sfupvalue)+\"}$ \"     \n",
    "print(latex)"
   ]
  },
  {
   "cell_type": "code",
   "execution_count": 4,
   "metadata": {},
   "outputs": [
    {
     "name": "stdout",
     "output_type": "stream",
     "text": [
      "& ${0.936}_{-0.141}^{+0.145}$ & ${0.902}_{-0.205}^{+0.234}$ & ${0.646}_{-0.281}^{+0.324}$ & ${0.731}_{-0.26}^{+0.367}$ \n"
     ]
    }
   ],
   "source": [
    "down=[-0.033,-0.048,-0.066,-0.061]\n",
    "up=[+0.034,+0.055,+0.076,+0.086]\n",
    "eff=0.81\n",
    "sf=[1.015,1.023,1.083,1.063]\n",
    "latex=\"\"\n",
    "for i in range(0,4):\n",
    "    sfnew=(1/eff-sf[i])/(1/eff-1)\n",
    "    sfup=(1/eff-sf[i]+up[i])/(1/eff-1)\n",
    "    sfdown=(1/eff-sf[i]+down[i])/(1/eff-1)\n",
    "    sfupvalue=sfup-sfnew\n",
    "    sfdownvalue=sfdown-sfnew\n",
    "    #保留3位小数\n",
    "    sfnew=round(sfnew,3)\n",
    "    sfupvalue=round(sfupvalue,3)\n",
    "    sfdownvalue=round(sfdownvalue,3)\n",
    "    latex=latex+\"& ${\"+str(sfnew)+\"}_{\"+str(sfdownvalue)+\"}^{+\"+str(sfupvalue)+\"}$ \"     \n",
    "print(latex)\n",
    "    "
   ]
  },
  {
   "cell_type": "code",
   "execution_count": 5,
   "metadata": {},
   "outputs": [
    {
     "name": "stdout",
     "output_type": "stream",
     "text": [
      "& ${1.043}_{-0.298}^{+0.298}$ & ${1.162}_{-0.256}^{+0.247}$ & ${0.915}_{-0.239}^{+0.243}$ & ${1.09}_{-0.162}^{+0.153}$ \n"
     ]
    }
   ],
   "source": [
    "sf=[0.990,0.962,1.020,0.979]\n",
    "down=[-0.070,-0.060,-0.056,-0.038]\n",
    "up=[+0.070,+0.058,+0.057,+0.036]\n",
    "eff=0.81\n",
    "latex=\"\"\n",
    "for i in range(0,4):\n",
    "    sfnew=(1/eff-sf[i])/(1/eff-1)\n",
    "    sfup=(1/eff-sf[i]+up[i])/(1/eff-1)\n",
    "    sfdown=(1/eff-sf[i]+down[i])/(1/eff-1)\n",
    "    sfupvalue=sfup-sfnew\n",
    "    sfdownvalue=sfdown-sfnew\n",
    "    #保留3位小数\n",
    "    sfnew=round(sfnew,3)\n",
    "    sfupvalue=round(sfupvalue,3)\n",
    "    sfdownvalue=round(sfdownvalue,3)\n",
    "    latex=latex+\"& ${\"+str(sfnew)+\"}_{\"+str(sfdownvalue)+\"}^{+\"+str(sfupvalue)+\"}$ \"     \n",
    "print(latex)"
   ]
  },
  {
   "cell_type": "code",
   "execution_count": 7,
   "metadata": {},
   "outputs": [
    {
     "name": "stdout",
     "output_type": "stream",
     "text": [
      "& ${1.252}_{-0.145}^{+0.111}$ & ${1.367}_{-0.337}^{+0.273}$ & ${1.004}_{-0.136}^{+0.132}$ & ${1.158}_{-0.2}^{+0.158}$ \n"
     ]
    }
   ],
   "source": [
    "sf=[0.941,0.914,0.999,0.963]\n",
    "down=[-0.034,-0.079,-0.032,-0.047]\n",
    "up=[+0.026,+0.064,+0.031,+0.037]\n",
    "eff=0.81\n",
    "latex=\"\"\n",
    "for i in range(0,4):\n",
    "    sfnew=(1/eff-sf[i])/(1/eff-1)\n",
    "    sfup=(1/eff-sf[i]+up[i])/(1/eff-1)\n",
    "    sfdown=(1/eff-sf[i]+down[i])/(1/eff-1)\n",
    "    sfupvalue=sfup-sfnew\n",
    "    sfdownvalue=sfdown-sfnew\n",
    "    #保留3位小数\n",
    "    \n",
    "    sfnew=round(sfnew,3)\n",
    "    sfupvalue=round(sfupvalue,3)\n",
    "    sfdownvalue=round(sfdownvalue,3)\n",
    "    latex=latex+\"& ${\"+str(sfnew)+\"}_{\"+str(sfdownvalue)+\"}^{+\"+str(sfupvalue)+\"}$ \"     \n",
    "print(latex)"
   ]
  },
  {
   "cell_type": "code",
   "execution_count": null,
   "metadata": {},
   "outputs": [],
   "source": []
  }
 ],
 "metadata": {
  "kernelspec": {
   "display_name": "higgsdna",
   "language": "python",
   "name": "python3"
  },
  "language_info": {
   "codemirror_mode": {
    "name": "ipython",
    "version": 3
   },
   "file_extension": ".py",
   "mimetype": "text/x-python",
   "name": "python",
   "nbconvert_exporter": "python",
   "pygments_lexer": "ipython3",
   "version": "3.9.19"
  }
 },
 "nbformat": 4,
 "nbformat_minor": 2
}
